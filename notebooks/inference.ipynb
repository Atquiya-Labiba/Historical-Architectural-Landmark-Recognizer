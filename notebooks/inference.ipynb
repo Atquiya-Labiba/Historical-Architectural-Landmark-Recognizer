{
  "cells": [
    {
      "cell_type": "markdown",
      "metadata": {
        "id": "xSwR-ryYzmds"
      },
      "source": [
        "# **Historical and Architectural Landmarks Recognizer**\n",
        "\n",
        "The goal of this project is to classify 13 different Historical and Architectural Landmarks.The landmarks are:\n",
        "* Angkor Wat (Cambodia)\n",
        "* The Forbidden City (China)\n",
        "* Taj Mahal (India)\n",
        "* Cologne Cathedral (Germany)\n",
        "* Petra (Jordan)\n",
        "* Dome of the Rock (Jerusalem)\n",
        "* Hagia Sophia (Istanbul, Turkey)\n",
        "* Alhambra (Spain)\n",
        "* Palace of Versailles (France)\n",
        "* Colosseum (Italy)\n",
        "* Great Pyramid of Giza (Egypt)\n",
        "* Machu Picchu (Peru)\n",
        "* Chichen Itza (Mexico)"
      ]
    },
    {
      "cell_type": "markdown",
      "metadata": {
        "id": "-OXbWWfM0deo"
      },
      "source": [
        "# **Importing Necessary Libraries**"
      ]
    },
    {
      "cell_type": "code",
      "execution_count": 1,
      "metadata": {
        "id": "ACw_iuk94cQW",
        "colab": {
          "base_uri": "https://localhost:8080/"
        },
        "outputId": "d8f1a29c-22cd-414c-f1e2-e40352630ab7"
      },
      "outputs": [
        {
          "output_type": "stream",
          "name": "stdout",
          "text": [
            "\u001b[?25l   \u001b[90m━━━━━━━━━━━━━━━━━━━━━━━━━━━━━━━━━━━━━━━━\u001b[0m \u001b[32m0.0/719.8 kB\u001b[0m \u001b[31m?\u001b[0m eta \u001b[36m-:--:--\u001b[0m\r\u001b[2K   \u001b[91m━━━━━━━━━━━━━━━━━━━━━━━━━━━━━━━━━━━━━━━\u001b[0m\u001b[91m╸\u001b[0m \u001b[32m716.8/719.8 kB\u001b[0m \u001b[31m31.6 MB/s\u001b[0m eta \u001b[36m0:00:01\u001b[0m\r\u001b[2K   \u001b[90m━━━━━━━━━━━━━━━━━━━━━━━━━━━━━━━━━━━━━━━━\u001b[0m \u001b[32m719.8/719.8 kB\u001b[0m \u001b[31m19.6 MB/s\u001b[0m eta \u001b[36m0:00:00\u001b[0m\n",
            "\u001b[?25h\u001b[?25l   \u001b[90m━━━━━━━━━━━━━━━━━━━━━━━━━━━━━━━━━━━━━━━━\u001b[0m \u001b[32m0.0/70.3 kB\u001b[0m \u001b[31m?\u001b[0m eta \u001b[36m-:--:--\u001b[0m\r\u001b[2K   \u001b[90m━━━━━━━━━━━━━━━━━━━━━━━━━━━━━━━━━━━━━━━━\u001b[0m \u001b[32m70.3/70.3 kB\u001b[0m \u001b[31m5.4 MB/s\u001b[0m eta \u001b[36m0:00:00\u001b[0m\n",
            "\u001b[2K   \u001b[90m━━━━━━━━━━━━━━━━━━━━━━━━━━━━━━━━━━━━━━━━\u001b[0m \u001b[32m62.4/62.4 kB\u001b[0m \u001b[31m4.9 MB/s\u001b[0m eta \u001b[36m0:00:00\u001b[0m\n",
            "\u001b[2K   \u001b[90m━━━━━━━━━━━━━━━━━━━━━━━━━━━━━━━━━━━━━━━━\u001b[0m \u001b[32m5.3/5.3 MB\u001b[0m \u001b[31m79.3 MB/s\u001b[0m eta \u001b[36m0:00:00\u001b[0m\n",
            "\u001b[2K   \u001b[90m━━━━━━━━━━━━━━━━━━━━━━━━━━━━━━━━━━━━━━━━\u001b[0m \u001b[32m3.3/3.3 MB\u001b[0m \u001b[31m90.5 MB/s\u001b[0m eta \u001b[36m0:00:00\u001b[0m\n",
            "\u001b[2K   \u001b[90m━━━━━━━━━━━━━━━━━━━━━━━━━━━━━━━━━━━━━━━━\u001b[0m \u001b[32m1.6/1.6 MB\u001b[0m \u001b[31m66.3 MB/s\u001b[0m eta \u001b[36m0:00:00\u001b[0m\n",
            "\u001b[?25h"
          ]
        }
      ],
      "source": [
        "!pip install -Uqq fastai fastbook nbdev ddgs==9.5.4"
      ]
    },
    {
      "cell_type": "code",
      "execution_count": 2,
      "metadata": {
        "id": "Efcr61Sa4lVv"
      },
      "outputs": [],
      "source": [
        "from fastai import *\n",
        "from fastbook import *\n",
        "from fastai.vision.all import *\n",
        "from fastai.vision.widgets import *\n",
        "from google.colab import drive"
      ]
    },
    {
      "cell_type": "markdown",
      "metadata": {
        "id": "koEd5Kj44p4G"
      },
      "source": [
        "# **Mounting Drive and Setting Up Project Directory**"
      ]
    },
    {
      "cell_type": "code",
      "execution_count": 3,
      "metadata": {
        "colab": {
          "base_uri": "https://localhost:8080/"
        },
        "id": "F6es5rps4tGa",
        "outputId": "ce4bbe95-a3e0-4e63-9b5b-32fa7c059b49"
      },
      "outputs": [
        {
          "output_type": "stream",
          "name": "stdout",
          "text": [
            "Mounted at /content/drive\n"
          ]
        }
      ],
      "source": [
        "drive.mount('/content/drive')"
      ]
    },
    {
      "cell_type": "markdown",
      "metadata": {
        "id": "hX_eUuuP6vgS"
      },
      "source": [
        "**Defining the folder path**"
      ]
    },
    {
      "cell_type": "code",
      "execution_count": 4,
      "metadata": {
        "id": "H09mpd936ehL"
      },
      "outputs": [],
      "source": [
        "folder_path = '/content/drive/My Drive/Master_Course/Landmark Recognizer'"
      ]
    },
    {
      "cell_type": "markdown",
      "metadata": {
        "id": "A31YPor86zRQ"
      },
      "source": [
        "**Create the folder if it does not exists**"
      ]
    },
    {
      "cell_type": "code",
      "execution_count": 5,
      "metadata": {
        "id": "h47EG-4S6hyx"
      },
      "outputs": [],
      "source": [
        "os.makedirs(folder_path, exist_ok=True)"
      ]
    },
    {
      "cell_type": "markdown",
      "metadata": {
        "id": "Ui0Cj9hm67Xr"
      },
      "source": [
        "**Change to that directory**"
      ]
    },
    {
      "cell_type": "code",
      "execution_count": 6,
      "metadata": {
        "colab": {
          "base_uri": "https://localhost:8080/"
        },
        "id": "SrGzKtND4u62",
        "outputId": "7ac67305-727b-4088-909b-41f3854c64ca"
      },
      "outputs": [
        {
          "output_type": "stream",
          "name": "stdout",
          "text": [
            "/content/drive/My Drive/Master_Course/Landmark Recognizer\n"
          ]
        }
      ],
      "source": [
        "%cd '/content/drive/My Drive/Master_Course/Landmark Recognizer/'"
      ]
    },
    {
      "cell_type": "code",
      "execution_count": 7,
      "metadata": {
        "colab": {
          "base_uri": "https://localhost:8080/"
        },
        "id": "bB1giQoY6op0",
        "outputId": "1d5d1f32-6b40-4128-a6e8-c5cf332de34e"
      },
      "outputs": [
        {
          "output_type": "stream",
          "name": "stdout",
          "text": [
            "Current directory: /content/drive/My Drive/Master_Course/Landmark Recognizer\n"
          ]
        }
      ],
      "source": [
        "#Check if the directory is correct\n",
        "print(f\"Current directory: {os.getcwd()}\")"
      ]
    },
    {
      "cell_type": "markdown",
      "source": [
        "# **Setting Up for Inference**"
      ],
      "metadata": {
        "id": "ls6hGnFcODna"
      }
    },
    {
      "cell_type": "code",
      "source": [
        "version=1\n",
        "img_path=\"./test_images\"\n",
        "model_path=\"./models/landmark_recognizer\""
      ],
      "metadata": {
        "id": "TEMvtQeDOLzx"
      },
      "execution_count": 8,
      "outputs": []
    },
    {
      "cell_type": "code",
      "source": [
        "model=load_learner(f\"{model_path}_model_v{version}.pkl\")"
      ],
      "metadata": {
        "colab": {
          "base_uri": "https://localhost:8080/"
        },
        "id": "7t3O9MWyOrki",
        "outputId": "af855495-ecf4-485d-cce7-f9b3bd40d56b"
      },
      "execution_count": 9,
      "outputs": [
        {
          "output_type": "stream",
          "name": "stderr",
          "text": [
            "/usr/local/lib/python3.12/dist-packages/fastai/learner.py:455: UserWarning: load_learner` uses Python's insecure pickle module, which can execute malicious arbitrary code when loading. Only load files you trust.\n",
            "If you only need to load model weights and optimizer state, use the safe `Learner.load` instead.\n",
            "  warn(\"load_learner` uses Python's insecure pickle module, which can execute malicious arbitrary code when loading. Only load files you trust.\\nIf you only need to load model weights and optimizer state, use the safe `Learner.load` instead.\")\n"
          ]
        }
      ]
    },
    {
      "cell_type": "markdown",
      "source": [
        "# **Inference 1**"
      ],
      "metadata": {
        "id": "H3_LsxmhO3JB"
      }
    },
    {
      "cell_type": "markdown",
      "source": [
        "**Target: Alhambra Palace**"
      ],
      "metadata": {
        "id": "iB-TefrVPJ1X"
      }
    },
    {
      "cell_type": "code",
      "source": [
        "img = Image.open(f'{img_path}/unknown01.jpeg')\n",
        "img.to_thumb(128,128)"
      ],
      "metadata": {
        "colab": {
          "base_uri": "https://localhost:8080/",
          "height": 0
        },
        "id": "5DmKUvKyPKcU",
        "outputId": "8e4137e1-21c6-4d52-dd01-44edcf427b4f"
      },
      "execution_count": 10,
      "outputs": [
        {
          "output_type": "execute_result",
          "data": {
            "text/plain": [
              "<PIL.Image.Image image mode=RGB size=128x77>"
            ],
            "image/png": "[encoded data removed]",
            "image/jpeg": "[encoded data removed]"
          },
          "metadata": {},
          "execution_count": 10
        }
      ]
    },
    {
      "cell_type": "code",
      "source": [
        "model.predict(f'{img_path}/unknown01.jpeg')"
      ],
      "metadata": {
        "colab": {
          "base_uri": "https://localhost:8080/",
          "height": 0
        },
        "id": "-jlAKslZPVPf",
        "outputId": "5bf67eef-3493-453c-c455-5aeaef3b9b60"
      },
      "execution_count": 11,
      "outputs": [
        {
          "output_type": "display_data",
          "data": {
            "text/plain": [
              "<IPython.core.display.HTML object>"
            ],
            "text/html": [
              "\n",
              "<style>\n",
              "    /* Turns off some styling */\n",
              "    progress {\n",
              "        /* gets rid of default border in Firefox and Opera. */\n",
              "        border: none;\n",
              "        /* Needs to be in here for Safari polyfill so background images work as expected. */\n",
              "        background-size: auto;\n",
              "    }\n",
              "    progress:not([value]), progress:not([value])::-webkit-progress-bar {\n",
              "        background: repeating-linear-gradient(45deg, #7e7e7e, #7e7e7e 10px, #5c5c5c 10px, #5c5c5c 20px);\n",
              "    }\n",
              "    .progress-bar-interrupted, .progress-bar-interrupted::-webkit-progress-bar {\n",
              "        background: #F44336;\n",
              "    }\n",
              "</style>\n"
            ]
          },
          "metadata": {}
        },
        {
          "output_type": "display_data",
          "data": {
            "text/plain": [
              "<IPython.core.display.HTML object>"
            ],
            "text/html": []
          },
          "metadata": {}
        },
        {
          "output_type": "execute_result",
          "data": {
            "text/plain": [
              "('alhambra palace',\n",
              " tensor(0),\n",
              " tensor([9.9976e-01, 1.9972e-05, 1.1318e-04, 7.4600e-06, 3.4867e-06, 1.0878e-05, 2.6174e-07, 2.0638e-07, 2.5857e-05, 4.1220e-07, 5.7922e-05, 4.3783e-07, 7.0626e-08]))"
            ]
          },
          "metadata": {},
          "execution_count": 11
        }
      ]
    },
    {
      "cell_type": "markdown",
      "source": [
        "# **Inference 2**"
      ],
      "metadata": {
        "id": "5jzOXBQ2PcjQ"
      }
    },
    {
      "cell_type": "markdown",
      "source": [
        "**Target: Palace of Versailles**"
      ],
      "metadata": {
        "id": "4LVf-rZ3PcjR"
      }
    },
    {
      "cell_type": "code",
      "source": [
        "img = Image.open(f'{img_path}/unknown02.jpg')\n",
        "img.to_thumb(128,128)"
      ],
      "metadata": {
        "colab": {
          "base_uri": "https://localhost:8080/",
          "height": 102
        },
        "id": "Re10q5ePPcjS",
        "outputId": "fb9b46fb-9d70-470d-b260-120750ccb370"
      },
      "execution_count": 10,
      "outputs": [
        {
          "output_type": "execute_result",
          "data": {
            "text/plain": [
              "<PIL.Image.Image image mode=RGB size=128x85>"
            ],
            "image/png": "[encoded data removed]",
            "image/jpeg": "[encoded data removed]"
          },
          "metadata": {},
          "execution_count": 10
        }
      ]
    },
    {
      "cell_type": "code",
      "source": [
        "model.predict(f'{img_path}/unknown02.jpg')"
      ],
      "metadata": {
        "colab": {
          "base_uri": "https://localhost:8080/",
          "height": 72
        },
        "id": "Bhoau82gPcjS",
        "outputId": "38db4413-2d69-4e30-c069-ebadc7cba391"
      },
      "execution_count": 11,
      "outputs": [
        {
          "output_type": "display_data",
          "data": {
            "text/plain": [
              "<IPython.core.display.HTML object>"
            ],
            "text/html": [
              "\n",
              "<style>\n",
              "    /* Turns off some styling */\n",
              "    progress {\n",
              "        /* gets rid of default border in Firefox and Opera. */\n",
              "        border: none;\n",
              "        /* Needs to be in here for Safari polyfill so background images work as expected. */\n",
              "        background-size: auto;\n",
              "    }\n",
              "    progress:not([value]), progress:not([value])::-webkit-progress-bar {\n",
              "        background: repeating-linear-gradient(45deg, #7e7e7e, #7e7e7e 10px, #5c5c5c 10px, #5c5c5c 20px);\n",
              "    }\n",
              "    .progress-bar-interrupted, .progress-bar-interrupted::-webkit-progress-bar {\n",
              "        background: #F44336;\n",
              "    }\n",
              "</style>\n"
            ]
          },
          "metadata": {}
        },
        {
          "output_type": "display_data",
          "data": {
            "text/plain": [
              "<IPython.core.display.HTML object>"
            ],
            "text/html": []
          },
          "metadata": {}
        },
        {
          "output_type": "execute_result",
          "data": {
            "text/plain": [
              "('palace of versailles',\n",
              " tensor(10),\n",
              " tensor([7.0301e-10, 7.8170e-09, 4.6824e-10, 3.5365e-10, 8.2090e-11, 9.8193e-11, 5.2200e-10, 1.4884e-12, 8.7349e-11, 1.8917e-10, 1.0000e+00, 2.5642e-11, 6.4200e-09]))"
            ]
          },
          "metadata": {},
          "execution_count": 11
        }
      ]
    },
    {
      "cell_type": "markdown",
      "source": [
        "# **Inference 3**"
      ],
      "metadata": {
        "id": "XX-of0PrPdW2"
      }
    },
    {
      "cell_type": "markdown",
      "source": [
        "**Target: Machu Picchu**"
      ],
      "metadata": {
        "id": "OV69wNUSPdW3"
      }
    },
    {
      "cell_type": "code",
      "source": [
        "img = Image.open(f'{img_path}/unknown03.jpg')\n",
        "img.to_thumb(128,128)"
      ],
      "metadata": {
        "colab": {
          "base_uri": "https://localhost:8080/",
          "height": 0
        },
        "id": "LYAf7XhLPdW3",
        "outputId": "33e7a3c8-1fce-4abf-ced4-c5d7e35557af"
      },
      "execution_count": 14,
      "outputs": [
        {
          "output_type": "execute_result",
          "data": {
            "text/plain": [
              "<PIL.Image.Image image mode=RGB size=128x46>"
            ],
            "image/png": "[encoded data removed]",
            "image/jpeg": "[encoded data removed]"
          },
          "metadata": {},
          "execution_count": 14
        }
      ]
    },
    {
      "cell_type": "code",
      "source": [
        "model.predict(f'{img_path}/unknown03.jpg')"
      ],
      "metadata": {
        "colab": {
          "base_uri": "https://localhost:8080/",
          "height": 0
        },
        "id": "gmE4CKuFPdW4",
        "outputId": "74f400da-82f8-4e8d-991b-cde27b726b53"
      },
      "execution_count": 15,
      "outputs": [
        {
          "output_type": "display_data",
          "data": {
            "text/plain": [
              "<IPython.core.display.HTML object>"
            ],
            "text/html": [
              "\n",
              "<style>\n",
              "    /* Turns off some styling */\n",
              "    progress {\n",
              "        /* gets rid of default border in Firefox and Opera. */\n",
              "        border: none;\n",
              "        /* Needs to be in here for Safari polyfill so background images work as expected. */\n",
              "        background-size: auto;\n",
              "    }\n",
              "    progress:not([value]), progress:not([value])::-webkit-progress-bar {\n",
              "        background: repeating-linear-gradient(45deg, #7e7e7e, #7e7e7e 10px, #5c5c5c 10px, #5c5c5c 20px);\n",
              "    }\n",
              "    .progress-bar-interrupted, .progress-bar-interrupted::-webkit-progress-bar {\n",
              "        background: #F44336;\n",
              "    }\n",
              "</style>\n"
            ]
          },
          "metadata": {}
        },
        {
          "output_type": "display_data",
          "data": {
            "text/plain": [
              "<IPython.core.display.HTML object>"
            ],
            "text/html": []
          },
          "metadata": {}
        },
        {
          "output_type": "execute_result",
          "data": {
            "text/plain": [
              "('machu picchu',\n",
              " tensor(9),\n",
              " tensor([2.6922e-05, 1.6616e-05, 4.7185e-07, 1.0251e-02, 1.1487e-06, 3.1723e-06, 2.6399e-07, 1.5949e-06, 1.6976e-07, 9.8968e-01, 9.0927e-06, 2.7255e-06, 6.7512e-06]))"
            ]
          },
          "metadata": {},
          "execution_count": 15
        }
      ]
    },
    {
      "cell_type": "markdown",
      "source": [
        "# **Inference 4**"
      ],
      "metadata": {
        "id": "N1G-tctSPe9T"
      }
    },
    {
      "cell_type": "markdown",
      "source": [
        "**Target: Taj Mahal**"
      ],
      "metadata": {
        "id": "MrqrWx4ePe9T"
      }
    },
    {
      "cell_type": "code",
      "source": [
        "img = Image.open(f'{img_path}/unknown04.jpg')\n",
        "img.to_thumb(128,128)"
      ],
      "metadata": {
        "colab": {
          "base_uri": "https://localhost:8080/",
          "height": 0
        },
        "id": "6bI-tAsUPe9U",
        "outputId": "2946797d-211c-447a-faf4-bd2bbd0bd38d"
      },
      "execution_count": 13,
      "outputs": [
        {
          "output_type": "execute_result",
          "data": {
            "text/plain": [
              "<PIL.Image.Image image mode=RGB size=128x78>"
            ],
            "image/png": "[encoded data removed]",
            "image/jpeg": "[encoded data removed]"
          },
          "metadata": {},
          "execution_count": 13
        }
      ]
    },
    {
      "cell_type": "code",
      "source": [
        "model.predict(f'{img_path}/unknown04.jpg')"
      ],
      "metadata": {
        "colab": {
          "base_uri": "https://localhost:8080/",
          "height": 0
        },
        "id": "sxIF61edPe9U",
        "outputId": "08ae44e9-f72b-4b9e-e973-eb87a81c89de"
      },
      "execution_count": 15,
      "outputs": [
        {
          "output_type": "display_data",
          "data": {
            "text/plain": [
              "<IPython.core.display.HTML object>"
            ],
            "text/html": [
              "\n",
              "<style>\n",
              "    /* Turns off some styling */\n",
              "    progress {\n",
              "        /* gets rid of default border in Firefox and Opera. */\n",
              "        border: none;\n",
              "        /* Needs to be in here for Safari polyfill so background images work as expected. */\n",
              "        background-size: auto;\n",
              "    }\n",
              "    progress:not([value]), progress:not([value])::-webkit-progress-bar {\n",
              "        background: repeating-linear-gradient(45deg, #7e7e7e, #7e7e7e 10px, #5c5c5c 10px, #5c5c5c 20px);\n",
              "    }\n",
              "    .progress-bar-interrupted, .progress-bar-interrupted::-webkit-progress-bar {\n",
              "        background: #F44336;\n",
              "    }\n",
              "</style>\n"
            ]
          },
          "metadata": {}
        },
        {
          "output_type": "display_data",
          "data": {
            "text/plain": [
              "<IPython.core.display.HTML object>"
            ],
            "text/html": []
          },
          "metadata": {}
        },
        {
          "output_type": "execute_result",
          "data": {
            "text/plain": [
              "('taj mahal',\n",
              " tensor(12),\n",
              " tensor([9.2587e-08, 2.8072e-07, 2.2085e-08, 5.2473e-05, 4.6854e-08, 1.4224e-06, 7.4724e-09, 4.2340e-06, 1.5718e-05, 9.4268e-09, 5.6027e-08, 3.8508e-06, 9.9992e-01]))"
            ]
          },
          "metadata": {},
          "execution_count": 15
        }
      ]
    },
    {
      "cell_type": "markdown",
      "source": [
        "# **Inference 5**"
      ],
      "metadata": {
        "id": "-sMQbmr4PfMv"
      }
    },
    {
      "cell_type": "markdown",
      "source": [
        "**Target: Cologne Cathedral**"
      ],
      "metadata": {
        "id": "Myb27WXFPfMw"
      }
    },
    {
      "cell_type": "code",
      "source": [
        "img = Image.open(f'{img_path}/unknown05.jpeg')\n",
        "img.to_thumb(128,128)"
      ],
      "metadata": {
        "colab": {
          "base_uri": "https://localhost:8080/",
          "height": 0
        },
        "id": "RFtNcc8_PfMw",
        "outputId": "eeb7a53e-e1a7-4ea4-fc98-e9c658293cd8"
      },
      "execution_count": 16,
      "outputs": [
        {
          "output_type": "execute_result",
          "data": {
            "text/plain": [
              "<PIL.Image.Image image mode=RGB size=128x98>"
            ],
            "image/png": "[encoded data removed]",
            "image/jpeg": "[encoded data removed]"
          },
          "metadata": {},
          "execution_count": 16
        }
      ]
    },
    {
      "cell_type": "code",
      "source": [
        "model.predict(f'{img_path}/unknown05.jpeg')"
      ],
      "metadata": {
        "colab": {
          "base_uri": "https://localhost:8080/",
          "height": 0
        },
        "id": "kgRcubvWPfMw",
        "outputId": "14e234ca-e6e7-4324-c345-5ee80cf394d7"
      },
      "execution_count": 17,
      "outputs": [
        {
          "output_type": "display_data",
          "data": {
            "text/plain": [
              "<IPython.core.display.HTML object>"
            ],
            "text/html": [
              "\n",
              "<style>\n",
              "    /* Turns off some styling */\n",
              "    progress {\n",
              "        /* gets rid of default border in Firefox and Opera. */\n",
              "        border: none;\n",
              "        /* Needs to be in here for Safari polyfill so background images work as expected. */\n",
              "        background-size: auto;\n",
              "    }\n",
              "    progress:not([value]), progress:not([value])::-webkit-progress-bar {\n",
              "        background: repeating-linear-gradient(45deg, #7e7e7e, #7e7e7e 10px, #5c5c5c 10px, #5c5c5c 20px);\n",
              "    }\n",
              "    .progress-bar-interrupted, .progress-bar-interrupted::-webkit-progress-bar {\n",
              "        background: #F44336;\n",
              "    }\n",
              "</style>\n"
            ]
          },
          "metadata": {}
        },
        {
          "output_type": "display_data",
          "data": {
            "text/plain": [
              "<IPython.core.display.HTML object>"
            ],
            "text/html": []
          },
          "metadata": {}
        },
        {
          "output_type": "execute_result",
          "data": {
            "text/plain": [
              "('cologne cathedral',\n",
              " tensor(3),\n",
              " tensor([1.4654e-05, 1.7488e-03, 1.5371e-05, 9.9560e-01, 3.1191e-05, 1.1841e-04, 7.5442e-06, 3.6358e-05, 1.1047e-04, 1.0080e-05, 2.2772e-03, 1.4422e-06, 2.7996e-05]))"
            ]
          },
          "metadata": {},
          "execution_count": 17
        }
      ]
    },
    {
      "cell_type": "markdown",
      "source": [
        "# **Inference 6**"
      ],
      "metadata": {
        "id": "n3eHxVvcq5cn"
      }
    },
    {
      "cell_type": "markdown",
      "source": [
        "**Target: Forbidden City**"
      ],
      "metadata": {
        "id": "d8phyiKGq5cn"
      }
    },
    {
      "cell_type": "code",
      "source": [
        "img = Image.open(f'{img_path}/unknown06.jpg')\n",
        "img.to_thumb(128,128)"
      ],
      "metadata": {
        "colab": {
          "base_uri": "https://localhost:8080/",
          "height": 0
        },
        "outputId": "1c9a271b-076d-4a41-d7a9-416248e5582c",
        "id": "-se78_YIq5co"
      },
      "execution_count": 20,
      "outputs": [
        {
          "output_type": "execute_result",
          "data": {
            "text/plain": [
              "<PIL.Image.Image image mode=RGB size=128x64>"
            ],
            "image/png": "[encoded data removed]",
            "image/jpeg": "[encoded data removed]"
          },
          "metadata": {},
          "execution_count": 20
        }
      ]
    },
    {
      "cell_type": "code",
      "source": [
        "model.predict(f'{img_path}/unknown06.jpg')"
      ],
      "metadata": {
        "colab": {
          "base_uri": "https://localhost:8080/",
          "height": 0
        },
        "outputId": "a389a191-d556-448f-f22f-2e97428944aa",
        "id": "RqyQuHGOq5co"
      },
      "execution_count": 21,
      "outputs": [
        {
          "output_type": "display_data",
          "data": {
            "text/plain": [
              "<IPython.core.display.HTML object>"
            ],
            "text/html": [
              "\n",
              "<style>\n",
              "    /* Turns off some styling */\n",
              "    progress {\n",
              "        /* gets rid of default border in Firefox and Opera. */\n",
              "        border: none;\n",
              "        /* Needs to be in here for Safari polyfill so background images work as expected. */\n",
              "        background-size: auto;\n",
              "    }\n",
              "    progress:not([value]), progress:not([value])::-webkit-progress-bar {\n",
              "        background: repeating-linear-gradient(45deg, #7e7e7e, #7e7e7e 10px, #5c5c5c 10px, #5c5c5c 20px);\n",
              "    }\n",
              "    .progress-bar-interrupted, .progress-bar-interrupted::-webkit-progress-bar {\n",
              "        background: #F44336;\n",
              "    }\n",
              "</style>\n"
            ]
          },
          "metadata": {}
        },
        {
          "output_type": "display_data",
          "data": {
            "text/plain": [
              "<IPython.core.display.HTML object>"
            ],
            "text/html": []
          },
          "metadata": {}
        },
        {
          "output_type": "execute_result",
          "data": {
            "text/plain": [
              "('forbidden city',\n",
              " tensor(6),\n",
              " tensor([8.4302e-06, 6.9464e-04, 2.7839e-06, 2.4577e-06, 1.0879e-06, 1.0873e-06, 9.9841e-01, 2.3590e-05, 2.5902e-05, 1.3951e-05, 1.7259e-06, 1.2116e-04, 6.9695e-04]))"
            ]
          },
          "metadata": {},
          "execution_count": 21
        }
      ]
    },
    {
      "cell_type": "code",
      "source": [
        "from torchvision import datasets\n",
        "\n",
        "dataset = datasets.ImageFolder(\"data\")\n",
        "print(dataset.class_to_idx)\n"
      ],
      "metadata": {
        "colab": {
          "base_uri": "https://localhost:8080/"
        },
        "id": "9s2tgz7Nw9c2",
        "outputId": "e3b73df5-b39a-4cc7-ed93-8dd0723e0797"
      },
      "execution_count": 23,
      "outputs": [
        {
          "output_type": "stream",
          "name": "stdout",
          "text": [
            "{'alhambra palace': 0, 'angkor wat': 1, 'chichen itza': 2, 'cologne cathedral': 3, 'colosseum rome': 4, 'dome of the rock': 5, 'forbidden city': 6, 'great pyramid of giza': 7, 'hagia sophia': 8, 'machu picchu': 9, 'palace of versailles': 10, 'petra jordan': 11, 'taj mahal': 12}\n"
          ]
        }
      ]
    }
  ],
  "metadata": {
    "colab": {
      "collapsed_sections": [
        "-OXbWWfM0deo",
        "koEd5Kj44p4G",
        "3_56q-_G7m8D",
        "Vyueo9PZPuaR",
        "WzOS4fM8EsvO",
        "-mLAWENdELsZ",
        "tMFXmcMxX8j9",
        "tVifjvWgWTZs",
        "6-bHiI6HWrJH"
      ],
      "provenance": []
    },
    "kernelspec": {
      "display_name": "Python 3",
      "name": "python3"
    },
    "language_info": {
      "name": "python"
    }
  },
  "nbformat": 4,
  "nbformat_minor": 0
}